{
 "cells": [
  {
   "cell_type": "code",
   "execution_count": 5,
   "id": "4cc32a77-b53f-4a91-835c-c78414a13934",
   "metadata": {},
   "outputs": [],
   "source": [
    "import numpy as np\n",
    "import pandas as pd\n",
    "import seaborn as sns\n",
    "import matplotlib.pyplot as plt\n",
    "import warnings\n",
    "\n",
    "warnings.filterwarnings('ignore')"
   ]
  },
  {
   "cell_type": "code",
   "execution_count": 6,
   "id": "2877f437-a7e3-42a0-8c13-8699f481fa60",
   "metadata": {},
   "outputs": [],
   "source": [
    "data = {\n",
    "     'Date': ['2025-01-05','2025-01-12','2025-02-20','2025-03-15','2025-04-25','2025-05-10','2025-06-05'],\n",
    "    'Product_Category': ['Electronics','Clothing','Grocery','Electronics','Clothing','Grocery','Electronics'],\n",
    "    'Product': ['Smartphone','Jeans','Rice (10kg)','Laptop','T-Shirts','Cooking Oil','Headphones'],\n",
    "    'Units_Sold': [50,120,200,30,300,250,80],\n",
    "    'Unit_Price': [20000,1200,600,50000,500,200,2000],\n",
    "    'Profit_Margin': [0.20,0.25,0.10,0.18,0.30,0.08,0.22]\n",
    "}\n",
    "\n",
    "df = pd.DataFrame(data)"
   ]
  },
  {
   "cell_type": "code",
   "execution_count": 7,
   "id": "870d83e1-23b9-4c73-949d-b6d81ac0e50f",
   "metadata": {},
   "outputs": [
    {
     "data": {
      "text/html": [
       "<div>\n",
       "<style scoped>\n",
       "    .dataframe tbody tr th:only-of-type {\n",
       "        vertical-align: middle;\n",
       "    }\n",
       "\n",
       "    .dataframe tbody tr th {\n",
       "        vertical-align: top;\n",
       "    }\n",
       "\n",
       "    .dataframe thead th {\n",
       "        text-align: right;\n",
       "    }\n",
       "</style>\n",
       "<table border=\"1\" class=\"dataframe\">\n",
       "  <thead>\n",
       "    <tr style=\"text-align: right;\">\n",
       "      <th></th>\n",
       "      <th>Date</th>\n",
       "      <th>Product_Category</th>\n",
       "      <th>Product</th>\n",
       "      <th>Units_Sold</th>\n",
       "      <th>Unit_Price</th>\n",
       "      <th>Profit_Margin</th>\n",
       "    </tr>\n",
       "  </thead>\n",
       "  <tbody>\n",
       "    <tr>\n",
       "      <th>0</th>\n",
       "      <td>2025-01-05</td>\n",
       "      <td>Electronics</td>\n",
       "      <td>Smartphone</td>\n",
       "      <td>50</td>\n",
       "      <td>20000</td>\n",
       "      <td>0.20</td>\n",
       "    </tr>\n",
       "    <tr>\n",
       "      <th>1</th>\n",
       "      <td>2025-01-12</td>\n",
       "      <td>Clothing</td>\n",
       "      <td>Jeans</td>\n",
       "      <td>120</td>\n",
       "      <td>1200</td>\n",
       "      <td>0.25</td>\n",
       "    </tr>\n",
       "    <tr>\n",
       "      <th>2</th>\n",
       "      <td>2025-02-20</td>\n",
       "      <td>Grocery</td>\n",
       "      <td>Rice (10kg)</td>\n",
       "      <td>200</td>\n",
       "      <td>600</td>\n",
       "      <td>0.10</td>\n",
       "    </tr>\n",
       "    <tr>\n",
       "      <th>3</th>\n",
       "      <td>2025-03-15</td>\n",
       "      <td>Electronics</td>\n",
       "      <td>Laptop</td>\n",
       "      <td>30</td>\n",
       "      <td>50000</td>\n",
       "      <td>0.18</td>\n",
       "    </tr>\n",
       "    <tr>\n",
       "      <th>4</th>\n",
       "      <td>2025-04-25</td>\n",
       "      <td>Clothing</td>\n",
       "      <td>T-Shirts</td>\n",
       "      <td>300</td>\n",
       "      <td>500</td>\n",
       "      <td>0.30</td>\n",
       "    </tr>\n",
       "    <tr>\n",
       "      <th>5</th>\n",
       "      <td>2025-05-10</td>\n",
       "      <td>Grocery</td>\n",
       "      <td>Cooking Oil</td>\n",
       "      <td>250</td>\n",
       "      <td>200</td>\n",
       "      <td>0.08</td>\n",
       "    </tr>\n",
       "    <tr>\n",
       "      <th>6</th>\n",
       "      <td>2025-06-05</td>\n",
       "      <td>Electronics</td>\n",
       "      <td>Headphones</td>\n",
       "      <td>80</td>\n",
       "      <td>2000</td>\n",
       "      <td>0.22</td>\n",
       "    </tr>\n",
       "  </tbody>\n",
       "</table>\n",
       "</div>"
      ],
      "text/plain": [
       "         Date Product_Category      Product  Units_Sold  Unit_Price  \\\n",
       "0  2025-01-05      Electronics   Smartphone          50       20000   \n",
       "1  2025-01-12         Clothing        Jeans         120        1200   \n",
       "2  2025-02-20          Grocery  Rice (10kg)         200         600   \n",
       "3  2025-03-15      Electronics       Laptop          30       50000   \n",
       "4  2025-04-25         Clothing     T-Shirts         300         500   \n",
       "5  2025-05-10          Grocery  Cooking Oil         250         200   \n",
       "6  2025-06-05      Electronics   Headphones          80        2000   \n",
       "\n",
       "   Profit_Margin  \n",
       "0           0.20  \n",
       "1           0.25  \n",
       "2           0.10  \n",
       "3           0.18  \n",
       "4           0.30  \n",
       "5           0.08  \n",
       "6           0.22  "
      ]
     },
     "execution_count": 7,
     "metadata": {},
     "output_type": "execute_result"
    }
   ],
   "source": [
    "df"
   ]
  },
  {
   "cell_type": "code",
   "execution_count": 8,
   "id": "14e2efa9-0284-42de-aefe-cd84e02aae6f",
   "metadata": {},
   "outputs": [
    {
     "data": {
      "text/plain": [
       "(7, 6)"
      ]
     },
     "execution_count": 8,
     "metadata": {},
     "output_type": "execute_result"
    }
   ],
   "source": [
    "df.shape"
   ]
  },
  {
   "cell_type": "code",
   "execution_count": 9,
   "id": "dea2a441-c94a-425d-8e50-524d7ab68351",
   "metadata": {},
   "outputs": [
    {
     "data": {
      "text/html": [
       "<div>\n",
       "<style scoped>\n",
       "    .dataframe tbody tr th:only-of-type {\n",
       "        vertical-align: middle;\n",
       "    }\n",
       "\n",
       "    .dataframe tbody tr th {\n",
       "        vertical-align: top;\n",
       "    }\n",
       "\n",
       "    .dataframe thead th {\n",
       "        text-align: right;\n",
       "    }\n",
       "</style>\n",
       "<table border=\"1\" class=\"dataframe\">\n",
       "  <thead>\n",
       "    <tr style=\"text-align: right;\">\n",
       "      <th></th>\n",
       "      <th>Date</th>\n",
       "      <th>Product_Category</th>\n",
       "      <th>Product</th>\n",
       "      <th>Units_Sold</th>\n",
       "      <th>Unit_Price</th>\n",
       "      <th>Profit_Margin</th>\n",
       "    </tr>\n",
       "  </thead>\n",
       "  <tbody>\n",
       "    <tr>\n",
       "      <th>0</th>\n",
       "      <td>2025-01-05</td>\n",
       "      <td>Electronics</td>\n",
       "      <td>Smartphone</td>\n",
       "      <td>50</td>\n",
       "      <td>20000</td>\n",
       "      <td>0.20</td>\n",
       "    </tr>\n",
       "    <tr>\n",
       "      <th>1</th>\n",
       "      <td>2025-01-12</td>\n",
       "      <td>Clothing</td>\n",
       "      <td>Jeans</td>\n",
       "      <td>120</td>\n",
       "      <td>1200</td>\n",
       "      <td>0.25</td>\n",
       "    </tr>\n",
       "    <tr>\n",
       "      <th>2</th>\n",
       "      <td>2025-02-20</td>\n",
       "      <td>Grocery</td>\n",
       "      <td>Rice (10kg)</td>\n",
       "      <td>200</td>\n",
       "      <td>600</td>\n",
       "      <td>0.10</td>\n",
       "    </tr>\n",
       "    <tr>\n",
       "      <th>3</th>\n",
       "      <td>2025-03-15</td>\n",
       "      <td>Electronics</td>\n",
       "      <td>Laptop</td>\n",
       "      <td>30</td>\n",
       "      <td>50000</td>\n",
       "      <td>0.18</td>\n",
       "    </tr>\n",
       "    <tr>\n",
       "      <th>4</th>\n",
       "      <td>2025-04-25</td>\n",
       "      <td>Clothing</td>\n",
       "      <td>T-Shirts</td>\n",
       "      <td>300</td>\n",
       "      <td>500</td>\n",
       "      <td>0.30</td>\n",
       "    </tr>\n",
       "  </tbody>\n",
       "</table>\n",
       "</div>"
      ],
      "text/plain": [
       "         Date Product_Category      Product  Units_Sold  Unit_Price  \\\n",
       "0  2025-01-05      Electronics   Smartphone          50       20000   \n",
       "1  2025-01-12         Clothing        Jeans         120        1200   \n",
       "2  2025-02-20          Grocery  Rice (10kg)         200         600   \n",
       "3  2025-03-15      Electronics       Laptop          30       50000   \n",
       "4  2025-04-25         Clothing     T-Shirts         300         500   \n",
       "\n",
       "   Profit_Margin  \n",
       "0           0.20  \n",
       "1           0.25  \n",
       "2           0.10  \n",
       "3           0.18  \n",
       "4           0.30  "
      ]
     },
     "execution_count": 9,
     "metadata": {},
     "output_type": "execute_result"
    }
   ],
   "source": [
    "df.head()"
   ]
  },
  {
   "cell_type": "code",
   "execution_count": 10,
   "id": "eb93fac1-8483-4ee9-88ee-abe260d8d4f7",
   "metadata": {},
   "outputs": [
    {
     "name": "stdout",
     "output_type": "stream",
     "text": [
      "<class 'pandas.core.frame.DataFrame'>\n",
      "RangeIndex: 7 entries, 0 to 6\n",
      "Data columns (total 6 columns):\n",
      " #   Column            Non-Null Count  Dtype  \n",
      "---  ------            --------------  -----  \n",
      " 0   Date              7 non-null      object \n",
      " 1   Product_Category  7 non-null      object \n",
      " 2   Product           7 non-null      object \n",
      " 3   Units_Sold        7 non-null      int64  \n",
      " 4   Unit_Price        7 non-null      int64  \n",
      " 5   Profit_Margin     7 non-null      float64\n",
      "dtypes: float64(1), int64(2), object(3)\n",
      "memory usage: 468.0+ bytes\n"
     ]
    }
   ],
   "source": [
    "df.info()"
   ]
  },
  {
   "cell_type": "code",
   "execution_count": 11,
   "id": "cd53abf3-79ea-483b-b991-82e4aa23d041",
   "metadata": {},
   "outputs": [
    {
     "data": {
      "text/html": [
       "<div>\n",
       "<style scoped>\n",
       "    .dataframe tbody tr th:only-of-type {\n",
       "        vertical-align: middle;\n",
       "    }\n",
       "\n",
       "    .dataframe tbody tr th {\n",
       "        vertical-align: top;\n",
       "    }\n",
       "\n",
       "    .dataframe thead th {\n",
       "        text-align: right;\n",
       "    }\n",
       "</style>\n",
       "<table border=\"1\" class=\"dataframe\">\n",
       "  <thead>\n",
       "    <tr style=\"text-align: right;\">\n",
       "      <th></th>\n",
       "      <th>Units_Sold</th>\n",
       "      <th>Unit_Price</th>\n",
       "      <th>Profit_Margin</th>\n",
       "    </tr>\n",
       "  </thead>\n",
       "  <tbody>\n",
       "    <tr>\n",
       "      <th>count</th>\n",
       "      <td>7.000000</td>\n",
       "      <td>7.000000</td>\n",
       "      <td>7.000000</td>\n",
       "    </tr>\n",
       "    <tr>\n",
       "      <th>mean</th>\n",
       "      <td>147.142857</td>\n",
       "      <td>10642.857143</td>\n",
       "      <td>0.190000</td>\n",
       "    </tr>\n",
       "    <tr>\n",
       "      <th>std</th>\n",
       "      <td>104.197614</td>\n",
       "      <td>18766.979613</td>\n",
       "      <td>0.078528</td>\n",
       "    </tr>\n",
       "    <tr>\n",
       "      <th>min</th>\n",
       "      <td>30.000000</td>\n",
       "      <td>200.000000</td>\n",
       "      <td>0.080000</td>\n",
       "    </tr>\n",
       "    <tr>\n",
       "      <th>25%</th>\n",
       "      <td>65.000000</td>\n",
       "      <td>550.000000</td>\n",
       "      <td>0.140000</td>\n",
       "    </tr>\n",
       "    <tr>\n",
       "      <th>50%</th>\n",
       "      <td>120.000000</td>\n",
       "      <td>1200.000000</td>\n",
       "      <td>0.200000</td>\n",
       "    </tr>\n",
       "    <tr>\n",
       "      <th>75%</th>\n",
       "      <td>225.000000</td>\n",
       "      <td>11000.000000</td>\n",
       "      <td>0.235000</td>\n",
       "    </tr>\n",
       "    <tr>\n",
       "      <th>max</th>\n",
       "      <td>300.000000</td>\n",
       "      <td>50000.000000</td>\n",
       "      <td>0.300000</td>\n",
       "    </tr>\n",
       "  </tbody>\n",
       "</table>\n",
       "</div>"
      ],
      "text/plain": [
       "       Units_Sold    Unit_Price  Profit_Margin\n",
       "count    7.000000      7.000000       7.000000\n",
       "mean   147.142857  10642.857143       0.190000\n",
       "std    104.197614  18766.979613       0.078528\n",
       "min     30.000000    200.000000       0.080000\n",
       "25%     65.000000    550.000000       0.140000\n",
       "50%    120.000000   1200.000000       0.200000\n",
       "75%    225.000000  11000.000000       0.235000\n",
       "max    300.000000  50000.000000       0.300000"
      ]
     },
     "execution_count": 11,
     "metadata": {},
     "output_type": "execute_result"
    }
   ],
   "source": [
    "df.describe()"
   ]
  },
  {
   "cell_type": "code",
   "execution_count": 12,
   "id": "e65f35fa-35c1-4395-b51e-38b37cdb900e",
   "metadata": {},
   "outputs": [
    {
     "data": {
      "text/plain": [
       "Date                0\n",
       "Product_Category    0\n",
       "Product             0\n",
       "Units_Sold          0\n",
       "Unit_Price          0\n",
       "Profit_Margin       0\n",
       "dtype: int64"
      ]
     },
     "execution_count": 12,
     "metadata": {},
     "output_type": "execute_result"
    }
   ],
   "source": [
    "df.isnull().sum()"
   ]
  },
  {
   "cell_type": "code",
   "execution_count": 13,
   "id": "d1b71cd5-a668-4d89-a01b-59d783f6997a",
   "metadata": {},
   "outputs": [
    {
     "data": {
      "text/plain": [
       "Index(['Date', 'Product_Category', 'Product', 'Units_Sold', 'Unit_Price',\n",
       "       'Profit_Margin'],\n",
       "      dtype='object')"
      ]
     },
     "execution_count": 13,
     "metadata": {},
     "output_type": "execute_result"
    }
   ],
   "source": [
    "df.columns"
   ]
  },
  {
   "cell_type": "markdown",
   "id": "dd5994ce-6ab6-411b-954d-417ae3a4fa7c",
   "metadata": {},
   "source": [
    "Calculate total Sales"
   ]
  },
  {
   "cell_type": "code",
   "execution_count": 14,
   "id": "d6b649f4-90cf-40d2-9608-b61f57f424de",
   "metadata": {},
   "outputs": [],
   "source": [
    "df['Total_Sales']= df['Units_Sold'] * df['Unit_Price']"
   ]
  },
  {
   "cell_type": "markdown",
   "id": "17f71e66-31a9-482c-85cc-bac441d06267",
   "metadata": {},
   "source": [
    "Convert date column"
   ]
  },
  {
   "cell_type": "code",
   "execution_count": 15,
   "id": "6f8428c1-ba6f-4fe0-a94f-7c48db24e9fe",
   "metadata": {},
   "outputs": [],
   "source": [
    "df['Date']= pd.to_datetime(df['Date'])\n",
    "df['Month']= df['Date'].dt.strftime('%b')"
   ]
  },
  {
   "cell_type": "markdown",
   "id": "ad791106-5c62-4146-87f8-33483a11bb00",
   "metadata": {},
   "source": [
    "Monthly Sales Analysis"
   ]
  },
  {
   "cell_type": "code",
   "execution_count": 16,
   "id": "1d795a04-ba50-4310-8425-44bd04bcb9df",
   "metadata": {},
   "outputs": [
    {
     "data": {
      "image/png": "[encoded data removed]",
      "text/plain": [
       "<Figure size 800x500 with 1 Axes>"
      ]
     },
     "metadata": {},
     "output_type": "display_data"
    }
   ],
   "source": [
    "monthly_sales = df.groupby('Month')['Total_Sales'].sum().reindex(\n",
    "    ['Jan','Feb','Mar','Apr','May','Jun']\n",
    ")\n",
    "\n",
    "plt.figure(figsize=(8,5))\n",
    "sns.barplot(x=monthly_sales.index, y=monthly_sales.values, palette=\"Blues\")\n",
    "plt.title(\"Monthly Sales Performance\")\n",
    "plt.ylabel(\"Total Sales (₹)\")\n",
    "plt.show()"
   ]
  },
  {
   "cell_type": "markdown",
   "id": "fe9376ec-8bdd-4530-8204-1d8267e91cbc",
   "metadata": {},
   "source": [
    "Category-Wise Contribution"
   ]
  },
  {
   "cell_type": "code",
   "execution_count": 17,
   "id": "5484e89a-5493-4446-ba23-53146bf783ca",
   "metadata": {},
   "outputs": [
    {
     "data": {
      "image/png": "[encoded data removed]",
      "text/plain": [
       "<Figure size 600x600 with 1 Axes>"
      ]
     },
     "metadata": {},
     "output_type": "display_data"
    }
   ],
   "source": [
    "category_sales = df.groupby('Product_Category')['Total_Sales'].sum()\n",
    "\n",
    "plt.figure(figsize=(6,6))\n",
    "plt.pie(category_sales, labels=category_sales.index, autopct='%1.1f%%', startangle=90, colors=sns.color_palette(\"pastel\"))\n",
    "plt.title(\"Sales Contribution by Category\")\n",
    "plt.show()\n"
   ]
  },
  {
   "cell_type": "markdown",
   "id": "20fd8a23-5f79-4e89-9722-b65473278489",
   "metadata": {},
   "source": [
    "Profit Margin Analysis"
   ]
  },
  {
   "cell_type": "code",
   "execution_count": 18,
   "id": "e75fa127-c891-44cb-a3c7-bd15baa4fd20",
   "metadata": {},
   "outputs": [
    {
     "data": {
      "image/png": "[encoded data removed]",
      "text/plain": [
       "<Figure size 800x500 with 1 Axes>"
      ]
     },
     "metadata": {},
     "output_type": "display_data"
    }
   ],
   "source": [
    "df['Profit'] = df['Total_Sales'] * df['Profit_Margin']\n",
    "\n",
    "profit_by_category = df.groupby('Product_Category')['Profit'].sum()\n",
    "\n",
    "plt.figure(figsize=(8,5))\n",
    "sns.barplot(x=profit_by_category.index, y=profit_by_category.values, palette=\"Greens\")\n",
    "plt.title(\"Profit by Product Category\")\n",
    "plt.ylabel(\"Profit (₹)\")\n",
    "plt.show()\n"
   ]
  },
  {
   "cell_type": "markdown",
   "id": "15b8a7fb-1a85-48e2-b0fb-07a61471577a",
   "metadata": {},
   "source": [
    "Key Insights (Print Statements)"
   ]
  },
  {
   "cell_type": "code",
   "execution_count": 19,
   "id": "e3f931e4-b71b-4ff9-8980-7e79656b71b9",
   "metadata": {},
   "outputs": [
    {
     "name": "stdout",
     "output_type": "stream",
     "text": [
      "📊 Key Insights:\n",
      "- Highest Sales Month: Mar with ₹ 1500000\n",
      "- Lowest Sales Month: May with ₹ 50000\n",
      "- Best Performing Category (Sales): Electronics\n",
      "- Most Profitable Category: Electronics\n"
     ]
    }
   ],
   "source": [
    "print(\"📊 Key Insights:\")\n",
    "print(\"- Highest Sales Month:\", monthly_sales.idxmax(), \"with ₹\", monthly_sales.max())\n",
    "print(\"- Lowest Sales Month:\", monthly_sales.idxmin(), \"with ₹\", monthly_sales.min())\n",
    "print(\"- Best Performing Category (Sales):\", category_sales.idxmax())\n",
    "print(\"- Most Profitable Category:\", profit_by_category.idxmax())\n"
   ]
  },
  {
   "cell_type": "code",
   "execution_count": null,
   "id": "3323a119-7f5c-47bc-a0f7-3f7641cf1a2a",
   "metadata": {},
   "outputs": [],
   "source": []
  }
 ],
 "metadata": {
  "kernelspec": {
   "display_name": "Python [conda env:base] *",
   "language": "python",
   "name": "conda-base-py"
  },
  "language_info": {
   "codemirror_mode": {
    "name": "ipython",
    "version": 3
   },
   "file_extension": ".py",
   "mimetype": "text/x-python",
   "name": "python",
   "nbconvert_exporter": "python",
   "pygments_lexer": "ipython3",
   "version": "3.13.5"
  }
 },
 "nbformat": 4,
 "nbformat_minor": 5
}
